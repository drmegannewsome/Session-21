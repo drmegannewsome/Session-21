{
 "cells": [
  {
   "cell_type": "markdown",
   "metadata": {},
   "source": [
    "Extract a set of points from a halo catalog to use as a LSS sample."
   ]
  },
  {
   "cell_type": "code",
   "execution_count": 1,
   "metadata": {},
   "outputs": [
    {
     "name": "stderr",
     "output_type": "stream",
     "text": [
      "/mnt/sw/nix/store/71ksmx7k6xy3v9ksfkv5mp5kxxp64pd6-python-3.10.13-view/lib/python3.10/site-packages/numpy/core/getlimits.py:549: UserWarning: The value of the smallest subnormal for <class 'numpy.float64'> type is zero.\n",
      "  setattr(self, word, getattr(machar, word).flat[0])\n",
      "/mnt/sw/nix/store/71ksmx7k6xy3v9ksfkv5mp5kxxp64pd6-python-3.10.13-view/lib/python3.10/site-packages/numpy/core/getlimits.py:89: UserWarning: The value of the smallest subnormal for <class 'numpy.float64'> type is zero.\n",
      "  return self._float_to_str(self.smallest_subnormal)\n",
      "/mnt/sw/nix/store/71ksmx7k6xy3v9ksfkv5mp5kxxp64pd6-python-3.10.13-view/lib/python3.10/site-packages/numpy/core/getlimits.py:549: UserWarning: The value of the smallest subnormal for <class 'numpy.float32'> type is zero.\n",
      "  setattr(self, word, getattr(machar, word).flat[0])\n",
      "/mnt/sw/nix/store/71ksmx7k6xy3v9ksfkv5mp5kxxp64pd6-python-3.10.13-view/lib/python3.10/site-packages/numpy/core/getlimits.py:89: UserWarning: The value of the smallest subnormal for <class 'numpy.float32'> type is zero.\n",
      "  return self._float_to_str(self.smallest_subnormal)\n"
     ]
    }
   ],
   "source": [
    "from abacusnbody.data.compaso_halo_catalog import CompaSOHaloCatalog\n",
    "\n",
    "cat = CompaSOHaloCatalog(\n",
    "    \"/mnt/home/lgarrison/ceph/AbacusSummit/AbacusSummit_base_c000_ph000/halos/z0.100/\",\n",
    "    cleaned=False,\n",
    "    fields=[\"N\", \"x_L2com\"],\n",
    ")"
   ]
  },
  {
   "cell_type": "code",
   "execution_count": 77,
   "metadata": {},
   "outputs": [
    {
     "name": "stdout",
     "output_type": "stream",
     "text": [
      "135431\n"
     ]
    },
    {
     "name": "stderr",
     "output_type": "stream",
     "text": [
      "In gridlink_float> Running with [nmesh_x, nmesh_y, nmesh_z]  = 26,26,13.  Time taken =   0.001 sec\n",
      "0%.........10%.........20%.........30%.........40%.........50%.........60%.........70%.........80%.........90%.........100% done. Time taken =  0.015 secs\n"
     ]
    }
   ],
   "source": [
    "import Corrfunc\n",
    "import numpy as np\n",
    "\n",
    "rng = np.random.default_rng(123)\n",
    "\n",
    "bins = np.linspace(0., 150, 20)\n",
    "L = cat.header[\"BoxSize\"]\n",
    "pos = cat.halos[\"x_L2com\"].copy()\n",
    "N = cat.halos[\"N\"]\n",
    "pos = pos[N >= 50_000]\n",
    "print(len(pos))\n",
    "pos = rng.choice(pos, 10_000, replace=False)\n",
    "pos %= L\n",
    "\n",
    "res = Corrfunc.theory.xi(\n",
    "    L,\n",
    "    1,\n",
    "    bins,\n",
    "    *pos.T,\n",
    "    verbose=True,\n",
    ")"
   ]
  },
  {
   "cell_type": "code",
   "execution_count": 78,
   "metadata": {},
   "outputs": [
    {
     "data": {
      "image/png": "[encoded data removed]",
      "text/plain": [
       "<Figure size 640x480 with 1 Axes>"
      ]
     },
     "metadata": {},
     "output_type": "display_data"
    }
   ],
   "source": [
    "# plot\n",
    "import matplotlib.pyplot as plt\n",
    "\n",
    "plt.plot(bins[:-1], res[\"xi\"], marker=\"o\", ls=\"none\")\n",
    "# plt.xscale('log')\n",
    "plt.yscale(\"symlog\", linthresh=0.1)\n",
    "plt.show()"
   ]
  },
  {
   "cell_type": "code",
   "execution_count": 58,
   "metadata": {},
   "outputs": [
    {
     "data": {
      "text/html": [
       "&lt;Column name=&apos;x_L2com&apos; dtype=&apos;float32&apos; shape=(135431,) length=3&gt;\n",
       "<table>\n",
       "<tr><td>1002.2712 .. 1000.7808</td></tr>\n",
       "<tr><td>1022.61536 .. 982.41003</td></tr>\n",
       "<tr><td>251.77208 .. 457.94385</td></tr>\n",
       "</table>"
      ],
      "text/plain": [
       "<Column name='x_L2com' dtype='float32' shape=(135431,) length=3>\n",
       " 1002.2712 .. 1000.7808\n",
       "1022.61536 .. 982.41003\n",
       " 251.77208 .. 457.94385"
      ]
     },
     "execution_count": 58,
     "metadata": {},
     "output_type": "execute_result"
    }
   ],
   "source": [
    "pos.T"
   ]
  },
  {
   "cell_type": "code",
   "execution_count": 67,
   "metadata": {},
   "outputs": [],
   "source": [
    "import astropy.io.ascii\n",
    "from astropy.table import Table\n",
    "\n",
    "t = Table(pos, names=[\"x\", \"y\", \"z\"], meta=dict(L=L))\n",
    "\n",
    "astropy.io.ascii.write(\n",
    "    t, \"galaxies.ecsv\", format=\"ecsv\",  overwrite=True,\n",
    ")"
   ]
  },
  {
   "cell_type": "code",
   "execution_count": null,
   "metadata": {},
   "outputs": [],
   "source": []
  }
 ],
 "metadata": {
  "kernelspec": {
   "display_name": "venv",
   "language": "python",
   "name": "python3"
  },
  "language_info": {
   "codemirror_mode": {
    "name": "ipython",
    "version": 3
   },
   "file_extension": ".py",
   "mimetype": "text/x-python",
   "name": "python",
   "nbconvert_exporter": "python",
   "pygments_lexer": "ipython3",
   "version": "3.10.13"
  }
 },
 "nbformat": 4,
 "nbformat_minor": 2
}
