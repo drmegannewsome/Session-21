{
 "cells": [
  {
   "cell_type": "markdown",
   "metadata": {},
   "source": [
    "# QUAIL Pipeline\n",
    "**Quick-RAIL, A Simplified RAIL Degradation Pipeline**\n",
    "\n",
    "This pipeline heavily references the pipeline created in RAIL's Degradation Demo notebook, which can be found [rendered on ReadTheDocs](https://rail-hub.readthedocs.io/projects/rail-notebooks/en/latest/rendered/creation_examples/degradation-demo.html) and in [notebook form on GitHub](https://github.com/LSSTDESC/rail/blob/main/examples/creation_examples/degradation-demo.ipynb)."
   ]
  },
  {
   "cell_type": "markdown",
   "metadata": {},
   "source": [
    "## Welcome!\n",
    "\n",
    "The recommended order of action is as follows: \n",
    "\n",
    "_(However, because the pipeline is already able to run as-is, you are free to skip any steps and come back to them later.)_\n",
    "\n",
    "1. Read through the whole notebook.\n",
    "1. Implement an Incorrectness stage.\n",
    "    1. Each row will have some change of its redshift value being changed to a random value.\n",
    "    1. This kind of degrader is especially useful in cases where you need a pipeline to test for the impact of incorrect values in your training set, and how it will impact your estimations on your test set. In essense, how sensitive is your estimator to bad values in your training set? If even a tenth of a percent of values being bad will ruin things, that's good to know up front!\n",
    "1. Implement InvRedshiftIncompleteness.\n",
    "    1. This degrader applies a selection function, which keeps galaxies with probability $p_{\\text{keep}}(z) = \\min(1, \\frac{z_p}{z})$, where $z_p$ is the ''pivot'' redshift. We'll use $z_p = 0.8$.\n",
    "    1. If this speaks to you, consider other incompleteness degrader stages you could implement. Different survival functions can be applied to different bands (see [Malmquist bias](https://en.wikipedia.org/wiki/Malmquist_bias)), and this will result in different redshift distributions. \n",
    "    1. We recommend using scipy's [continuous distributions](https://docs.scipy.org/doc/scipy/reference/stats.html#continuous-distributions), which have survival functions as a method called `sf` (eg, see [alpha.sf docs](https://docs.scipy.org/doc/scipy/reference/generated/scipy.stats.alpha.html#scipy.stats.alpha:~:text=sf(x%2C%20a%2C%20loc%3D0%2C%20scale%3D1))).\n",
    "1. Once you have at least a couple degraders to choose from, take some time to play around with the pipeline and see how different adding and removing degraders in different combinations will affect the results.\n",
    "1. Implement LSSTErrorModel to replace the BadErrorModel.\n",
    "    1. More info on how the error model is generated is in the LSST docs.\n",
    "    2. If you'd like a hint, we recommend looking at John Franklin's code in his implementation of the LSSTErrorModel ([repo here](https://github.com/jfcrenshaw/photerr/tree/main/photerr)).\n",
    "1. Implement better plotting functionality (as described at the end).\n"
   ]
  },
  {
   "cell_type": "markdown",
   "metadata": {},
   "source": [
    "## Setting things up"
   ]
  },
  {
   "cell_type": "markdown",
   "metadata": {},
   "source": [
    "Start by making a conda environment (or translate these instructions for your preferred environment manager):\n",
    "\n",
    "`conda create -n quail python=3.10`\n",
    "\n",
    "Install the following packages:\n",
    "```\n",
    "pip install pzflow\n",
    "pip install pz-rail-pzflow\n",
    "pip install matplotlib\n",
    "pip install ipykernel\n",
    "```\n",
    "\n",
    "Make your conda environment available as a kernel for your notebook:\n",
    "\n",
    "`python -m ipykernel install --user --name quail`"
   ]
  },
  {
   "cell_type": "code",
   "execution_count": 52,
   "metadata": {},
   "outputs": [],
   "source": [
    "# Then our imports:\n",
    "from numbers import Number\n",
    "import os\n",
    "import matplotlib.pyplot as plt"
   ]
  },
  {
   "cell_type": "markdown",
   "metadata": {},
   "source": [
    "## Generate our truth data from CSV file"
   ]
  },
  {
   "cell_type": "code",
   "execution_count": 53,
   "metadata": {},
   "outputs": [],
   "source": [
    "import pandas as pd\n",
    "\n",
    "samples_truth = pd.read_csv('samples_truth.csv')\n"
   ]
  },
  {
   "cell_type": "markdown",
   "metadata": {},
   "source": [
    "## QUAIL Base Classes"
   ]
  },
  {
   "cell_type": "markdown",
   "metadata": {},
   "source": [
    "We'll be using a few highly simplified versions of RAIL classes, namely:\n",
    "- QuailStage (accompanied by a NothingStage, to demonstrate how we'll inherit for our other degrader stages)\n",
    "- DataStore\n",
    "- Pipeline"
   ]
  },
  {
   "cell_type": "code",
   "execution_count": 54,
   "metadata": {},
   "outputs": [],
   "source": [
    "from abc import ABC, abstractmethod\n",
    "\n",
    "class QuailStage(ABC):\n",
    "    \"\"\"A class for the QuailStage stage.\"\"\"\n",
    "\n",
    "    def __init__(self, name):\n",
    "        \"\"\"Constructor.\n",
    "        \n",
    "        Parameters\n",
    "        ----------\n",
    "        name : str\n",
    "            The (human-readable) name of the stage (this will be used in the Pipeline's __repr__).\n",
    "        \"\"\"\n",
    "        self.name = name\n",
    "        self.data_in = None\n",
    "        self.data_out = None\n",
    "\n",
    "    @abstractmethod\n",
    "    def run(self):\n",
    "        \"\"\"To be implemented in subclasses. This should set the data_out attribute.\"\"\"\n",
    "        pass"
   ]
  },
  {
   "cell_type": "code",
   "execution_count": 55,
   "metadata": {},
   "outputs": [],
   "source": [
    "class NothingStage(QuailStage):\n",
    "    \"\"\"A stage that does nothing.\"\"\"\n",
    "    def __init__(self, name):\n",
    "        \"\"\"Constructor.\n",
    "        \n",
    "        Parameters\n",
    "        ----------\n",
    "        name : str\n",
    "            The name of the stage.\n",
    "        \"\"\"\n",
    "        super().__init__(name)\n",
    "\n",
    "    def run(self):\n",
    "        \"\"\"Run the stage.\"\"\"\n",
    "        self.data_out = self.data_in"
   ]
  },
  {
   "cell_type": "markdown",
   "metadata": {},
   "source": [
    "## Degrader 1: BadErrorModel\n",
    "\n",
    "We start by creating an incredibly naive error model as a stand-in for the LSSTErrorModel.\n",
    "\n",
    "This will generate u_err, g_err, etc. columns for us, but there's no scientific basis for the values it generates."
   ]
  },
  {
   "cell_type": "code",
   "execution_count": 56,
   "metadata": {},
   "outputs": [],
   "source": [
    "class BadErrorModel(QuailStage):\n",
    "    \"\"\"A stage that applies bad errors.\"\"\"\n",
    "    def __init__(self, name):\n",
    "        \"\"\"Constructor.\n",
    "        \n",
    "        Parameters\n",
    "        ----------\n",
    "        name : str\n",
    "            The name of the stage.\n",
    "        \"\"\"\n",
    "        super().__init__(name)\n",
    "\n",
    "    def apply_errors(self):\n",
    "        \"\"\"Apply the errors to the input data.\n",
    "        \n",
    "        Returns\n",
    "        -------\n",
    "        errors : pandas.DataFrame\n",
    "            The input data with errors applied.\n",
    "        \"\"\"\n",
    "        # create a copy of the input data\n",
    "        errors = self.data_in.copy()\n",
    "        for col in [\"u\", \"g\", \"r\", \"i\", \"z\", \"y\"]:\n",
    "            # create a new column with the error\n",
    "            errors[f\"{col}_err\"] = 0.01 * self.data_in[col]\n",
    "        # reorder the columns\n",
    "        errors = errors[[\"redshift\", \"u\", \"u_err\", \"g\", \"g_err\", \"r\", \"r_err\", \"i\", \"i_err\", \"z\", \"z_err\", \"y\", \"y_err\"]]\n",
    "        return errors\n",
    "\n",
    "    def run(self):\n",
    "        \"\"\"Run the stage.\"\"\"\n",
    "        self.data_out = self.apply_errors()\n",
    "\n",
    "    def plot(self):\n",
    "        \"\"\"Plot the truth data and the errors.\"\"\"\n",
    "        if self.data_out is None:\n",
    "            raise ValueError(\"You must run the stage first.\")\n",
    "        \n",
    "        fig, ax = plt.subplots(figsize=(5, 4), dpi=100)\n",
    "\n",
    "        for band in \"ugrizy\":\n",
    "            # pull out the magnitudes and errors\n",
    "            mags = self.data_out[band].to_numpy()\n",
    "            errs = self.data_out[band + \"_err\"].to_numpy()\n",
    "\n",
    "            # sort them by magnitude\n",
    "            mags, errs = mags[mags.argsort()], errs[mags.argsort()]\n",
    "\n",
    "            # plot errs vs mags\n",
    "            ax.plot(mags, errs, label=band)\n",
    "\n",
    "        ax.legend()\n",
    "        ax.set(xlabel=\"Magnitude (AB)\", ylabel=\"Error (mags)\")\n",
    "        plt.show()"
   ]
  },
  {
   "cell_type": "markdown",
   "metadata": {},
   "source": [
    "## Degrader 2: QuantityCut\n",
    "\n",
    "This degrader is based on our QuantityCut example in the degradation demo notebook."
   ]
  },
  {
   "cell_type": "code",
   "execution_count": 57,
   "metadata": {},
   "outputs": [],
   "source": [
    "class QuantityCut(QuailStage):\n",
    "    \"\"\"Applies a cut to the input data based on a quantity.\n",
    "    \n",
    "    Parameters\n",
    "    ----------\n",
    "    name : str\n",
    "        The name of the stage.\n",
    "    cuts : dict\n",
    "        A dictionary of cuts to apply to the data. \n",
    "\n",
    "    Notes\n",
    "    -----\n",
    "    The cut keys should be the names of columns you wish to make cuts on.\n",
    "\n",
    "    The cut values should be either:\n",
    "    - a number, which is the maximum value. E.g. if the dictionary\n",
    "    contains \"i\": 25, then values of i > 25 are cut from the sample.\n",
    "    - an iterable, which is the range of acceptable values. E.g. if the \n",
    "    dictionary contains \"redshift\": (1.5, 2.3), then redshifts outside that\n",
    "    range are cut from the sample.\n",
    "    \"\"\"\n",
    "    def __init__(self, name=\"QuantityCut\", cuts=None):\n",
    "        \"\"\"Constructor.\n",
    "        \"\"\"\n",
    "        super().__init__(name=name)\n",
    "        self.cuts = cuts \n",
    "        self.data_out = None\n",
    "\n",
    "    def apply_cut(self):\n",
    "        \"\"\"Apply the cuts to the input data.\n",
    "        \n",
    "        Returns\n",
    "        -------\n",
    "        data_out : pandas.DataFrame\n",
    "            The input data with the cut applied.\n",
    "        \"\"\"\n",
    "        # create a copy of the input data\n",
    "        data_out = self.data_in.copy()\n",
    "        \n",
    "        # Apply the cuts\n",
    "        for col, cut in self.cuts.items():\n",
    "            if isinstance(cut, Number):\n",
    "                # Apply cut as maximum value\n",
    "                data_out = data_out[data_out[col] <= cut]\n",
    "            elif hasattr(cut, \"__iter__\"):\n",
    "                # Apply cut as range of acceptable values\n",
    "                data_out = data_out[(data_out[col] >= cut[0]) & (data_out[col] <= cut[1])]\n",
    "            else:\n",
    "                raise TypeError(\"Cut must be a number or an iterable of (min, max)\")\n",
    "\n",
    "        return data_out\n",
    "\n",
    "    def run(self):\n",
    "        \"\"\"Run the stage.\"\"\"\n",
    "        data_out = self.apply_cut()\n",
    "        self.data_out = data_out"
   ]
  },
  {
   "cell_type": "markdown",
   "metadata": {},
   "source": [
    "## Degrader 3: InvRedshiftIncompleteness\n",
    "\n",
    "This one is up to you! Feel free to reference "
   ]
  },
  {
   "cell_type": "code",
   "execution_count": 58,
   "metadata": {},
   "outputs": [],
   "source": [
    "# Potentially, write an InvRedshiftIncompleteness for them here"
   ]
  },
  {
   "cell_type": "markdown",
   "metadata": {},
   "source": [
    "## Making the Pipeline"
   ]
  },
  {
   "cell_type": "code",
   "execution_count": 59,
   "metadata": {},
   "outputs": [],
   "source": [
    "class DataStore(dict):\n",
    "    def __init__(self):\n",
    "        dict.__init__(self)\n",
    "    \n",
    "    def __getattr__(self, key): # Code copied from RAIL's DataStore \n",
    "        \"\"\"Allow attribute-like parameter access\"\"\"\n",
    "        try:\n",
    "            return self.__getitem__(key)\n",
    "        except KeyError as msg:\n",
    "            # Kludge to get docstrings to work\n",
    "            if key in [\"__objclass__\"]:  # pragma: no cover\n",
    "                return None\n",
    "            raise KeyError from msg\n",
    "    \n",
    "    def __repr__(self): # Feel free to change this output into whatever you like!\n",
    "        \"\"\"Prints the DataStore keys and shapes in a human-readable format.\"\"\"\n",
    "        s = \"DataStore\\n\"\n",
    "        for key in self.keys():\n",
    "            s += f\"  {key}:\\n\\t{self[key].shape}\\n\"\n",
    "        return s\n",
    "    \n"
   ]
  },
  {
   "cell_type": "code",
   "execution_count": 60,
   "metadata": {},
   "outputs": [],
   "source": [
    "class Pipeline:\n",
    "    def __init__(self, data_store, stages):\n",
    "        self.data_store = data_store\n",
    "        self.stages = stages\n",
    "\n",
    "    def run(self):\n",
    "        current_data = self.data_store[\"input_data\"]\n",
    "        for stage in self.stages:\n",
    "            print(f\"Running stage: {stage.name}\")\n",
    "            stage.data_in = current_data\n",
    "            stage.run()\n",
    "            self.data_store[f\"{stage.name}_data\"] = stage.data_out\n",
    "            current_data = stage.data_out\n",
    "        self.data_store[\"output_data\"] = current_data\n",
    "\n",
    "    def __repr__(self):\n",
    "        s = \"Pipeline\\n\"\n",
    "        for stage in self.stages:\n",
    "            s += f\"  {stage.name}\\n\"\n",
    "        return s\n",
    "    \n",
    "    def get_stage(self, stage_name):\n",
    "        for stage in self.stages:\n",
    "            if stage.name == stage_name:\n",
    "                return stage\n",
    "        print(f\"Stage {stage_name} not found in pipeline.\")\n",
    "        return None\n",
    "\n",
    "    def plot(self):\n",
    "        pass\n",
    "\n",
    "    def save(self):\n",
    "        pass\n"
   ]
  },
  {
   "cell_type": "code",
   "execution_count": 61,
   "metadata": {},
   "outputs": [],
   "source": [
    "DS = DataStore()\n",
    "DS[\"input_data\"] = samples_truth\n",
    "\n",
    "stages = [\n",
    "    NothingStage(\"do_nothing\"),\n",
    "    BadErrorModel(\"bad_error_model\"),\n",
    "    QuantityCut(\"quality_cut\", cuts={\"i\": 25.3}),\n",
    "]\n",
    "\n",
    "pipeline = Pipeline(DS, stages)"
   ]
  },
  {
   "cell_type": "code",
   "execution_count": 62,
   "metadata": {},
   "outputs": [
    {
     "data": {
      "text/plain": [
       "DataStore\n",
       "  input_data:\n",
       "\t(100000, 8)"
      ]
     },
     "execution_count": 62,
     "metadata": {},
     "output_type": "execute_result"
    }
   ],
   "source": [
    "DS"
   ]
  },
  {
   "cell_type": "code",
   "execution_count": 63,
   "metadata": {},
   "outputs": [
    {
     "name": "stdout",
     "output_type": "stream",
     "text": [
      "Running stage: do_nothing\n",
      "Running stage: bad_error_model\n",
      "Running stage: quality_cut\n"
     ]
    }
   ],
   "source": [
    "pipeline.run()"
   ]
  },
  {
   "cell_type": "code",
   "execution_count": 64,
   "metadata": {},
   "outputs": [
    {
     "data": {
      "text/plain": [
       "DataStore\n",
       "  input_data:\n",
       "\t(100000, 8)\n",
       "  do_nothing_data:\n",
       "\t(100000, 8)\n",
       "  bad_error_model_data:\n",
       "\t(100000, 13)\n",
       "  quality_cut_data:\n",
       "\t(51834, 13)\n",
       "  output_data:\n",
       "\t(51834, 13)"
      ]
     },
     "execution_count": 64,
     "metadata": {},
     "output_type": "execute_result"
    }
   ],
   "source": [
    "# Our DataStore after running the pipeline\n",
    "\n",
    "DS"
   ]
  },
  {
   "cell_type": "markdown",
   "metadata": {},
   "source": [
    "## Looking at the data"
   ]
  },
  {
   "cell_type": "markdown",
   "metadata": {},
   "source": [
    "Poke around and see the changes you've made! Note that overloading the `__getattr__` in our DataStore class lets us access data via `DS.key` syntax."
   ]
  },
  {
   "cell_type": "code",
   "execution_count": 65,
   "metadata": {},
   "outputs": [
    {
     "data": {
      "text/html": [
       "<div>\n",
       "<style scoped>\n",
       "    .dataframe tbody tr th:only-of-type {\n",
       "        vertical-align: middle;\n",
       "    }\n",
       "\n",
       "    .dataframe tbody tr th {\n",
       "        vertical-align: top;\n",
       "    }\n",
       "\n",
       "    .dataframe thead th {\n",
       "        text-align: right;\n",
       "    }\n",
       "</style>\n",
       "<table border=\"1\" class=\"dataframe\">\n",
       "  <thead>\n",
       "    <tr style=\"text-align: right;\">\n",
       "      <th></th>\n",
       "      <th>redshift</th>\n",
       "      <th>u</th>\n",
       "      <th>u_err</th>\n",
       "      <th>g</th>\n",
       "      <th>g_err</th>\n",
       "      <th>r</th>\n",
       "      <th>r_err</th>\n",
       "      <th>i</th>\n",
       "      <th>i_err</th>\n",
       "      <th>z</th>\n",
       "      <th>z_err</th>\n",
       "      <th>y</th>\n",
       "      <th>y_err</th>\n",
       "    </tr>\n",
       "  </thead>\n",
       "  <tbody>\n",
       "    <tr>\n",
       "      <th>2</th>\n",
       "      <td>0.974287</td>\n",
       "      <td>26.566011</td>\n",
       "      <td>0.265660</td>\n",
       "      <td>25.937712</td>\n",
       "      <td>0.259377</td>\n",
       "      <td>24.787410</td>\n",
       "      <td>0.247874</td>\n",
       "      <td>23.872452</td>\n",
       "      <td>0.238725</td>\n",
       "      <td>23.139565</td>\n",
       "      <td>0.231396</td>\n",
       "      <td>22.832047</td>\n",
       "      <td>0.228320</td>\n",
       "    </tr>\n",
       "    <tr>\n",
       "      <th>4</th>\n",
       "      <td>1.386366</td>\n",
       "      <td>26.292625</td>\n",
       "      <td>0.262926</td>\n",
       "      <td>25.774780</td>\n",
       "      <td>0.257748</td>\n",
       "      <td>25.429962</td>\n",
       "      <td>0.254300</td>\n",
       "      <td>24.806532</td>\n",
       "      <td>0.248065</td>\n",
       "      <td>24.367950</td>\n",
       "      <td>0.243680</td>\n",
       "      <td>23.700010</td>\n",
       "      <td>0.237000</td>\n",
       "    </tr>\n",
       "    <tr>\n",
       "      <th>5</th>\n",
       "      <td>0.781594</td>\n",
       "      <td>25.260240</td>\n",
       "      <td>0.252602</td>\n",
       "      <td>24.760660</td>\n",
       "      <td>0.247607</td>\n",
       "      <td>24.190182</td>\n",
       "      <td>0.241902</td>\n",
       "      <td>23.490292</td>\n",
       "      <td>0.234903</td>\n",
       "      <td>23.254755</td>\n",
       "      <td>0.232548</td>\n",
       "      <td>23.142416</td>\n",
       "      <td>0.231424</td>\n",
       "    </tr>\n",
       "    <tr>\n",
       "      <th>7</th>\n",
       "      <td>0.241211</td>\n",
       "      <td>25.242660</td>\n",
       "      <td>0.252427</td>\n",
       "      <td>24.297731</td>\n",
       "      <td>0.242977</td>\n",
       "      <td>23.660130</td>\n",
       "      <td>0.236601</td>\n",
       "      <td>23.434042</td>\n",
       "      <td>0.234340</td>\n",
       "      <td>23.290945</td>\n",
       "      <td>0.232909</td>\n",
       "      <td>23.230438</td>\n",
       "      <td>0.232304</td>\n",
       "    </tr>\n",
       "    <tr>\n",
       "      <th>8</th>\n",
       "      <td>0.679428</td>\n",
       "      <td>25.597195</td>\n",
       "      <td>0.255972</td>\n",
       "      <td>24.576440</td>\n",
       "      <td>0.245764</td>\n",
       "      <td>23.358215</td>\n",
       "      <td>0.233582</td>\n",
       "      <td>22.386457</td>\n",
       "      <td>0.223865</td>\n",
       "      <td>22.045208</td>\n",
       "      <td>0.220452</td>\n",
       "      <td>21.766764</td>\n",
       "      <td>0.217668</td>\n",
       "    </tr>\n",
       "    <tr>\n",
       "      <th>...</th>\n",
       "      <td>...</td>\n",
       "      <td>...</td>\n",
       "      <td>...</td>\n",
       "      <td>...</td>\n",
       "      <td>...</td>\n",
       "      <td>...</td>\n",
       "      <td>...</td>\n",
       "      <td>...</td>\n",
       "      <td>...</td>\n",
       "      <td>...</td>\n",
       "      <td>...</td>\n",
       "      <td>...</td>\n",
       "      <td>...</td>\n",
       "    </tr>\n",
       "    <tr>\n",
       "      <th>99985</th>\n",
       "      <td>0.655446</td>\n",
       "      <td>27.938507</td>\n",
       "      <td>0.279385</td>\n",
       "      <td>26.373728</td>\n",
       "      <td>0.263737</td>\n",
       "      <td>24.935673</td>\n",
       "      <td>0.249357</td>\n",
       "      <td>23.836836</td>\n",
       "      <td>0.238368</td>\n",
       "      <td>23.449917</td>\n",
       "      <td>0.234499</td>\n",
       "      <td>23.138634</td>\n",
       "      <td>0.231386</td>\n",
       "    </tr>\n",
       "    <tr>\n",
       "      <th>99987</th>\n",
       "      <td>0.533671</td>\n",
       "      <td>25.913958</td>\n",
       "      <td>0.259140</td>\n",
       "      <td>23.062689</td>\n",
       "      <td>0.230627</td>\n",
       "      <td>21.498064</td>\n",
       "      <td>0.214981</td>\n",
       "      <td>20.530350</td>\n",
       "      <td>0.205303</td>\n",
       "      <td>20.118843</td>\n",
       "      <td>0.201188</td>\n",
       "      <td>19.873358</td>\n",
       "      <td>0.198734</td>\n",
       "    </tr>\n",
       "    <tr>\n",
       "      <th>99990</th>\n",
       "      <td>0.890143</td>\n",
       "      <td>25.153248</td>\n",
       "      <td>0.251532</td>\n",
       "      <td>24.985104</td>\n",
       "      <td>0.249851</td>\n",
       "      <td>24.572035</td>\n",
       "      <td>0.245720</td>\n",
       "      <td>23.884954</td>\n",
       "      <td>0.238850</td>\n",
       "      <td>23.539755</td>\n",
       "      <td>0.235398</td>\n",
       "      <td>23.409140</td>\n",
       "      <td>0.234091</td>\n",
       "    </tr>\n",
       "    <tr>\n",
       "      <th>99992</th>\n",
       "      <td>0.857895</td>\n",
       "      <td>26.644789</td>\n",
       "      <td>0.266448</td>\n",
       "      <td>26.049950</td>\n",
       "      <td>0.260499</td>\n",
       "      <td>24.878296</td>\n",
       "      <td>0.248783</td>\n",
       "      <td>23.759335</td>\n",
       "      <td>0.237593</td>\n",
       "      <td>23.270386</td>\n",
       "      <td>0.232704</td>\n",
       "      <td>23.129335</td>\n",
       "      <td>0.231293</td>\n",
       "    </tr>\n",
       "    <tr>\n",
       "      <th>99994</th>\n",
       "      <td>0.767410</td>\n",
       "      <td>25.276413</td>\n",
       "      <td>0.252764</td>\n",
       "      <td>24.816841</td>\n",
       "      <td>0.248168</td>\n",
       "      <td>24.226608</td>\n",
       "      <td>0.242266</td>\n",
       "      <td>23.505165</td>\n",
       "      <td>0.235052</td>\n",
       "      <td>23.275276</td>\n",
       "      <td>0.232753</td>\n",
       "      <td>23.138520</td>\n",
       "      <td>0.231385</td>\n",
       "    </tr>\n",
       "  </tbody>\n",
       "</table>\n",
       "<p>51834 rows × 13 columns</p>\n",
       "</div>"
      ],
      "text/plain": [
       "       redshift          u     u_err          g     g_err          r  \\\n",
       "2      0.974287  26.566011  0.265660  25.937712  0.259377  24.787410   \n",
       "4      1.386366  26.292625  0.262926  25.774780  0.257748  25.429962   \n",
       "5      0.781594  25.260240  0.252602  24.760660  0.247607  24.190182   \n",
       "7      0.241211  25.242660  0.252427  24.297731  0.242977  23.660130   \n",
       "8      0.679428  25.597195  0.255972  24.576440  0.245764  23.358215   \n",
       "...         ...        ...       ...        ...       ...        ...   \n",
       "99985  0.655446  27.938507  0.279385  26.373728  0.263737  24.935673   \n",
       "99987  0.533671  25.913958  0.259140  23.062689  0.230627  21.498064   \n",
       "99990  0.890143  25.153248  0.251532  24.985104  0.249851  24.572035   \n",
       "99992  0.857895  26.644789  0.266448  26.049950  0.260499  24.878296   \n",
       "99994  0.767410  25.276413  0.252764  24.816841  0.248168  24.226608   \n",
       "\n",
       "          r_err          i     i_err          z     z_err          y     y_err  \n",
       "2      0.247874  23.872452  0.238725  23.139565  0.231396  22.832047  0.228320  \n",
       "4      0.254300  24.806532  0.248065  24.367950  0.243680  23.700010  0.237000  \n",
       "5      0.241902  23.490292  0.234903  23.254755  0.232548  23.142416  0.231424  \n",
       "7      0.236601  23.434042  0.234340  23.290945  0.232909  23.230438  0.232304  \n",
       "8      0.233582  22.386457  0.223865  22.045208  0.220452  21.766764  0.217668  \n",
       "...         ...        ...       ...        ...       ...        ...       ...  \n",
       "99985  0.249357  23.836836  0.238368  23.449917  0.234499  23.138634  0.231386  \n",
       "99987  0.214981  20.530350  0.205303  20.118843  0.201188  19.873358  0.198734  \n",
       "99990  0.245720  23.884954  0.238850  23.539755  0.235398  23.409140  0.234091  \n",
       "99992  0.248783  23.759335  0.237593  23.270386  0.232704  23.129335  0.231293  \n",
       "99994  0.242266  23.505165  0.235052  23.275276  0.232753  23.138520  0.231385  \n",
       "\n",
       "[51834 rows x 13 columns]"
      ]
     },
     "execution_count": 65,
     "metadata": {},
     "output_type": "execute_result"
    }
   ],
   "source": [
    "DS.quality_cut_data"
   ]
  },
  {
   "cell_type": "markdown",
   "metadata": {},
   "source": [
    "## Plotting"
   ]
  },
  {
   "cell_type": "markdown",
   "metadata": {},
   "source": [
    "We can access the plot method of our error model like so:"
   ]
  },
  {
   "cell_type": "code",
   "execution_count": 66,
   "metadata": {},
   "outputs": [
    {
     "data": {
      "image/png": "[encoded data removed]",
      "text/plain": [
       "<Figure size 500x400 with 1 Axes>"
      ]
     },
     "metadata": {},
     "output_type": "display_data"
    }
   ],
   "source": [
    "\n",
    "pipeline.get_stage(\"bad_error_model\").plot()  # Compare this to the plot in the RAIL degrader notebook,\n",
    "                                              # where we see very different errors!"
   ]
  },
  {
   "cell_type": "markdown",
   "metadata": {},
   "source": [
    "And here, we grab a snippet of plotting code from the degrader demo notebook. \n",
    "\n",
    "As it is now, we can compare our DataStore's input data and its output data. \n",
    "\n",
    "What else would you want to show? And where would you fit the code in?"
   ]
  },
  {
   "cell_type": "code",
   "execution_count": 67,
   "metadata": {},
   "outputs": [
    {
     "data": {
      "image/png": "[encoded data removed]",
      "text/plain": [
       "<Figure size 500x400 with 1 Axes>"
      ]
     },
     "metadata": {},
     "output_type": "display_data"
    }
   ],
   "source": [
    "fig, ax = plt.subplots(figsize=(5, 4), dpi=100)\n",
    "\n",
    "zmin = 0\n",
    "zmax = 2.5\n",
    "\n",
    "hist_settings = {\n",
    "    \"bins\": 50,\n",
    "    \"range\": (zmin, zmax),\n",
    "    \"density\": False, # both versions are useful!\n",
    "    \"histtype\": \"step\",\n",
    "}\n",
    "\n",
    "ax.hist(DS[\"input_data\"][\"redshift\"], label=\"DS Input Data\", **hist_settings)\n",
    "ax.hist(DS[\"output_data\"][\"redshift\"], label=\"DS Output Data\", **hist_settings)\n",
    "# One could extend this to plot the intermediate data, too...\n",
    "\n",
    "ax.legend(title=\"Sample\")\n",
    "ax.set(xlim=(zmin, zmax), xlabel=\"Redshift\", ylabel=\"Galaxy density\")\n",
    "plt.show()\n"
   ]
  },
  {
   "cell_type": "code",
   "execution_count": null,
   "metadata": {},
   "outputs": [],
   "source": []
  }
 ],
 "metadata": {
  "kernelspec": {
   "display_name": "Python 3 (ipykernel)",
   "language": "python",
   "name": "python3"
  },
  "language_info": {
   "codemirror_mode": {
    "name": "ipython",
    "version": 3
   },
   "file_extension": ".py",
   "mimetype": "text/x-python",
   "name": "python",
   "nbconvert_exporter": "python",
   "pygments_lexer": "ipython3",
   "version": "3.8.16"
  }
 },
 "nbformat": 4,
 "nbformat_minor": 2
}
